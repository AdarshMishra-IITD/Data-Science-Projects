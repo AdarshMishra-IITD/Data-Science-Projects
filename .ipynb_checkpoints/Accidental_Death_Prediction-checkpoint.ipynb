{
 "cells": [
  {
   "cell_type": "markdown",
   "id": "dd01e7fd",
   "metadata": {},
   "source": [
    "# Importing Important Librabries"
   ]
  },
  {
   "cell_type": "code",
   "execution_count": 1,
   "id": "f11569c3",
   "metadata": {},
   "outputs": [
    {
     "name": "stderr",
     "output_type": "stream",
     "text": [
      "/Users/adarsh_iitd/opt/anaconda3/lib/python3.9/site-packages/statsmodels/tsa/base/tsa_model.py:7: FutureWarning: pandas.Int64Index is deprecated and will be removed from pandas in a future version. Use pandas.Index with the appropriate dtype instead.\n",
      "  from pandas import (to_datetime, Int64Index, DatetimeIndex, Period,\n",
      "/Users/adarsh_iitd/opt/anaconda3/lib/python3.9/site-packages/statsmodels/tsa/base/tsa_model.py:7: FutureWarning: pandas.Float64Index is deprecated and will be removed from pandas in a future version. Use pandas.Index with the appropriate dtype instead.\n",
      "  from pandas import (to_datetime, Int64Index, DatetimeIndex, Period,\n"
     ]
    }
   ],
   "source": [
    "from datetime import datetime\n",
    "import numpy as np             \n",
    "import pandas as pd            \n",
    "import matplotlib.pylab as plt \n",
    "\n",
    "from statsmodels.tsa import stattools\n",
    "from statsmodels.tsa.stattools import adfuller \n",
    "from statsmodels.tsa.stattools import acf, pacf \n",
    "from statsmodels.tsa.seasonal import seasonal_decompose\n",
    "from statsmodels.tsa.arima_model import ARIMA\n",
    "import statsmodels.api as sm\n",
    "import seaborn as sns\n",
    "from scipy import stats\n",
    "from scipy.stats import normaltest\n",
    "from matplotlib.pylab import rcParams\n",
    "rcParams['figure.figsize'] = 10, 6\n",
    "\n",
    "import warnings \n",
    "warnings.filterwarnings('ignore')\n",
    "\n",
    "\n",
    "%matplotlib inline"
   ]
  },
  {
   "cell_type": "markdown",
   "id": "208cb65f",
   "metadata": {},
   "source": [
    "# Data Analysis"
   ]
  },
  {
   "cell_type": "code",
   "execution_count": 2,
   "id": "d55b3cf9",
   "metadata": {},
   "outputs": [
    {
     "ename": "FileNotFoundError",
     "evalue": "[Errno 2] No such file or directory: 'Road_accedent_death_USA.csv'",
     "output_type": "error",
     "traceback": [
      "\u001b[0;31m---------------------------------------------------------------------------\u001b[0m",
      "\u001b[0;31mFileNotFoundError\u001b[0m                         Traceback (most recent call last)",
      "\u001b[0;32m/var/folders/9w/y6dgsfld2f94jqzfxb_f6q800000gn/T/ipykernel_4712/3893445793.py\u001b[0m in \u001b[0;36m<module>\u001b[0;34m\u001b[0m\n\u001b[0;32m----> 1\u001b[0;31m \u001b[0mdf\u001b[0m \u001b[0;34m=\u001b[0m \u001b[0mpd\u001b[0m\u001b[0;34m.\u001b[0m\u001b[0mread_csv\u001b[0m\u001b[0;34m(\u001b[0m\u001b[0;34m\"Road_accedent_death_USA.csv\"\u001b[0m\u001b[0;34m)\u001b[0m\u001b[0;34m\u001b[0m\u001b[0;34m\u001b[0m\u001b[0m\n\u001b[0m",
      "\u001b[0;32m~/opt/anaconda3/lib/python3.9/site-packages/pandas/util/_decorators.py\u001b[0m in \u001b[0;36mwrapper\u001b[0;34m(*args, **kwargs)\u001b[0m\n\u001b[1;32m    309\u001b[0m                     \u001b[0mstacklevel\u001b[0m\u001b[0;34m=\u001b[0m\u001b[0mstacklevel\u001b[0m\u001b[0;34m,\u001b[0m\u001b[0;34m\u001b[0m\u001b[0;34m\u001b[0m\u001b[0m\n\u001b[1;32m    310\u001b[0m                 )\n\u001b[0;32m--> 311\u001b[0;31m             \u001b[0;32mreturn\u001b[0m \u001b[0mfunc\u001b[0m\u001b[0;34m(\u001b[0m\u001b[0;34m*\u001b[0m\u001b[0margs\u001b[0m\u001b[0;34m,\u001b[0m \u001b[0;34m**\u001b[0m\u001b[0mkwargs\u001b[0m\u001b[0;34m)\u001b[0m\u001b[0;34m\u001b[0m\u001b[0;34m\u001b[0m\u001b[0m\n\u001b[0m\u001b[1;32m    312\u001b[0m \u001b[0;34m\u001b[0m\u001b[0m\n\u001b[1;32m    313\u001b[0m         \u001b[0;32mreturn\u001b[0m \u001b[0mwrapper\u001b[0m\u001b[0;34m\u001b[0m\u001b[0;34m\u001b[0m\u001b[0m\n",
      "\u001b[0;32m~/opt/anaconda3/lib/python3.9/site-packages/pandas/io/parsers/readers.py\u001b[0m in \u001b[0;36mread_csv\u001b[0;34m(filepath_or_buffer, sep, delimiter, header, names, index_col, usecols, squeeze, prefix, mangle_dupe_cols, dtype, engine, converters, true_values, false_values, skipinitialspace, skiprows, skipfooter, nrows, na_values, keep_default_na, na_filter, verbose, skip_blank_lines, parse_dates, infer_datetime_format, keep_date_col, date_parser, dayfirst, cache_dates, iterator, chunksize, compression, thousands, decimal, lineterminator, quotechar, quoting, doublequote, escapechar, comment, encoding, encoding_errors, dialect, error_bad_lines, warn_bad_lines, on_bad_lines, delim_whitespace, low_memory, memory_map, float_precision, storage_options)\u001b[0m\n\u001b[1;32m    678\u001b[0m     \u001b[0mkwds\u001b[0m\u001b[0;34m.\u001b[0m\u001b[0mupdate\u001b[0m\u001b[0;34m(\u001b[0m\u001b[0mkwds_defaults\u001b[0m\u001b[0;34m)\u001b[0m\u001b[0;34m\u001b[0m\u001b[0;34m\u001b[0m\u001b[0m\n\u001b[1;32m    679\u001b[0m \u001b[0;34m\u001b[0m\u001b[0m\n\u001b[0;32m--> 680\u001b[0;31m     \u001b[0;32mreturn\u001b[0m \u001b[0m_read\u001b[0m\u001b[0;34m(\u001b[0m\u001b[0mfilepath_or_buffer\u001b[0m\u001b[0;34m,\u001b[0m \u001b[0mkwds\u001b[0m\u001b[0;34m)\u001b[0m\u001b[0;34m\u001b[0m\u001b[0;34m\u001b[0m\u001b[0m\n\u001b[0m\u001b[1;32m    681\u001b[0m \u001b[0;34m\u001b[0m\u001b[0m\n\u001b[1;32m    682\u001b[0m \u001b[0;34m\u001b[0m\u001b[0m\n",
      "\u001b[0;32m~/opt/anaconda3/lib/python3.9/site-packages/pandas/io/parsers/readers.py\u001b[0m in \u001b[0;36m_read\u001b[0;34m(filepath_or_buffer, kwds)\u001b[0m\n\u001b[1;32m    573\u001b[0m \u001b[0;34m\u001b[0m\u001b[0m\n\u001b[1;32m    574\u001b[0m     \u001b[0;31m# Create the parser.\u001b[0m\u001b[0;34m\u001b[0m\u001b[0;34m\u001b[0m\u001b[0m\n\u001b[0;32m--> 575\u001b[0;31m     \u001b[0mparser\u001b[0m \u001b[0;34m=\u001b[0m \u001b[0mTextFileReader\u001b[0m\u001b[0;34m(\u001b[0m\u001b[0mfilepath_or_buffer\u001b[0m\u001b[0;34m,\u001b[0m \u001b[0;34m**\u001b[0m\u001b[0mkwds\u001b[0m\u001b[0;34m)\u001b[0m\u001b[0;34m\u001b[0m\u001b[0;34m\u001b[0m\u001b[0m\n\u001b[0m\u001b[1;32m    576\u001b[0m \u001b[0;34m\u001b[0m\u001b[0m\n\u001b[1;32m    577\u001b[0m     \u001b[0;32mif\u001b[0m \u001b[0mchunksize\u001b[0m \u001b[0;32mor\u001b[0m \u001b[0miterator\u001b[0m\u001b[0;34m:\u001b[0m\u001b[0;34m\u001b[0m\u001b[0;34m\u001b[0m\u001b[0m\n",
      "\u001b[0;32m~/opt/anaconda3/lib/python3.9/site-packages/pandas/io/parsers/readers.py\u001b[0m in \u001b[0;36m__init__\u001b[0;34m(self, f, engine, **kwds)\u001b[0m\n\u001b[1;32m    931\u001b[0m \u001b[0;34m\u001b[0m\u001b[0m\n\u001b[1;32m    932\u001b[0m         \u001b[0mself\u001b[0m\u001b[0;34m.\u001b[0m\u001b[0mhandles\u001b[0m\u001b[0;34m:\u001b[0m \u001b[0mIOHandles\u001b[0m \u001b[0;34m|\u001b[0m \u001b[0;32mNone\u001b[0m \u001b[0;34m=\u001b[0m \u001b[0;32mNone\u001b[0m\u001b[0;34m\u001b[0m\u001b[0;34m\u001b[0m\u001b[0m\n\u001b[0;32m--> 933\u001b[0;31m         \u001b[0mself\u001b[0m\u001b[0;34m.\u001b[0m\u001b[0m_engine\u001b[0m \u001b[0;34m=\u001b[0m \u001b[0mself\u001b[0m\u001b[0;34m.\u001b[0m\u001b[0m_make_engine\u001b[0m\u001b[0;34m(\u001b[0m\u001b[0mf\u001b[0m\u001b[0;34m,\u001b[0m \u001b[0mself\u001b[0m\u001b[0;34m.\u001b[0m\u001b[0mengine\u001b[0m\u001b[0;34m)\u001b[0m\u001b[0;34m\u001b[0m\u001b[0;34m\u001b[0m\u001b[0m\n\u001b[0m\u001b[1;32m    934\u001b[0m \u001b[0;34m\u001b[0m\u001b[0m\n\u001b[1;32m    935\u001b[0m     \u001b[0;32mdef\u001b[0m \u001b[0mclose\u001b[0m\u001b[0;34m(\u001b[0m\u001b[0mself\u001b[0m\u001b[0;34m)\u001b[0m\u001b[0;34m:\u001b[0m\u001b[0;34m\u001b[0m\u001b[0;34m\u001b[0m\u001b[0m\n",
      "\u001b[0;32m~/opt/anaconda3/lib/python3.9/site-packages/pandas/io/parsers/readers.py\u001b[0m in \u001b[0;36m_make_engine\u001b[0;34m(self, f, engine)\u001b[0m\n\u001b[1;32m   1215\u001b[0m             \u001b[0;31m# \"Union[str, PathLike[str], ReadCsvBuffer[bytes], ReadCsvBuffer[str]]\"\u001b[0m\u001b[0;34m\u001b[0m\u001b[0;34m\u001b[0m\u001b[0m\n\u001b[1;32m   1216\u001b[0m             \u001b[0;31m# , \"str\", \"bool\", \"Any\", \"Any\", \"Any\", \"Any\", \"Any\"\u001b[0m\u001b[0;34m\u001b[0m\u001b[0;34m\u001b[0m\u001b[0m\n\u001b[0;32m-> 1217\u001b[0;31m             self.handles = get_handle(  # type: ignore[call-overload]\n\u001b[0m\u001b[1;32m   1218\u001b[0m                 \u001b[0mf\u001b[0m\u001b[0;34m,\u001b[0m\u001b[0;34m\u001b[0m\u001b[0;34m\u001b[0m\u001b[0m\n\u001b[1;32m   1219\u001b[0m                 \u001b[0mmode\u001b[0m\u001b[0;34m,\u001b[0m\u001b[0;34m\u001b[0m\u001b[0;34m\u001b[0m\u001b[0m\n",
      "\u001b[0;32m~/opt/anaconda3/lib/python3.9/site-packages/pandas/io/common.py\u001b[0m in \u001b[0;36mget_handle\u001b[0;34m(path_or_buf, mode, encoding, compression, memory_map, is_text, errors, storage_options)\u001b[0m\n\u001b[1;32m    787\u001b[0m         \u001b[0;32mif\u001b[0m \u001b[0mioargs\u001b[0m\u001b[0;34m.\u001b[0m\u001b[0mencoding\u001b[0m \u001b[0;32mand\u001b[0m \u001b[0;34m\"b\"\u001b[0m \u001b[0;32mnot\u001b[0m \u001b[0;32min\u001b[0m \u001b[0mioargs\u001b[0m\u001b[0;34m.\u001b[0m\u001b[0mmode\u001b[0m\u001b[0;34m:\u001b[0m\u001b[0;34m\u001b[0m\u001b[0;34m\u001b[0m\u001b[0m\n\u001b[1;32m    788\u001b[0m             \u001b[0;31m# Encoding\u001b[0m\u001b[0;34m\u001b[0m\u001b[0;34m\u001b[0m\u001b[0m\n\u001b[0;32m--> 789\u001b[0;31m             handle = open(\n\u001b[0m\u001b[1;32m    790\u001b[0m                 \u001b[0mhandle\u001b[0m\u001b[0;34m,\u001b[0m\u001b[0;34m\u001b[0m\u001b[0;34m\u001b[0m\u001b[0m\n\u001b[1;32m    791\u001b[0m                 \u001b[0mioargs\u001b[0m\u001b[0;34m.\u001b[0m\u001b[0mmode\u001b[0m\u001b[0;34m,\u001b[0m\u001b[0;34m\u001b[0m\u001b[0;34m\u001b[0m\u001b[0m\n",
      "\u001b[0;31mFileNotFoundError\u001b[0m: [Errno 2] No such file or directory: 'Road_accedent_death_USA.csv'"
     ]
    }
   ],
   "source": [
    "df = pd.read_csv(\"Road_accedent_death_USA.csv\")"
   ]
  },
  {
   "cell_type": "code",
   "execution_count": null,
   "id": "1455a6b0",
   "metadata": {},
   "outputs": [],
   "source": [
    "df.head()"
   ]
  },
  {
   "cell_type": "code",
   "execution_count": null,
   "id": "47eb563a",
   "metadata": {},
   "outputs": [],
   "source": [
    "df.tail()"
   ]
  },
  {
   "cell_type": "code",
   "execution_count": null,
   "id": "650f80b0",
   "metadata": {},
   "outputs": [],
   "source": [
    "df.count()"
   ]
  },
  {
   "cell_type": "code",
   "execution_count": null,
   "id": "e75bbaca",
   "metadata": {},
   "outputs": [],
   "source": [
    "df.shape"
   ]
  },
  {
   "cell_type": "code",
   "execution_count": null,
   "id": "9938b29d",
   "metadata": {},
   "outputs": [],
   "source": [
    "#converting Date from string to datetime format\n",
    "\n",
    "df['Month'] = pd.to_datetime(df['Month'], format=\"%Y-%m-%d\")"
   ]
  },
  {
   "cell_type": "code",
   "execution_count": null,
   "id": "7529860b",
   "metadata": {},
   "outputs": [],
   "source": [
    "df.head()"
   ]
  },
  {
   "cell_type": "code",
   "execution_count": null,
   "id": "f04db4b7",
   "metadata": {},
   "outputs": [],
   "source": [
    "#setting date as the index \n",
    "\n",
    "df.set_index(\"Month\",inplace= True)"
   ]
  },
  {
   "cell_type": "code",
   "execution_count": null,
   "id": "8253ef01",
   "metadata": {},
   "outputs": [],
   "source": [
    "#ploting graph\n",
    "\n",
    "plt.xlabel('Month')\n",
    "plt.ylabel('Number of Accidental deaths in USA')\n",
    "plt.plot(df)"
   ]
  },
  {
   "cell_type": "markdown",
   "id": "7ef067ae",
   "metadata": {},
   "source": [
    "# Decomposing Time Series"
   ]
  },
  {
   "cell_type": "code",
   "execution_count": null,
   "id": "b7b586fb",
   "metadata": {},
   "outputs": [],
   "source": [
    "result = sm.tsa.seasonal_decompose(df, model='additive', freq=12) #Seasonal decomposition using moving averages\n",
    "\n",
    "fig = plt.figure()  \n",
    "fig = result.plot()  \n",
    "fig.set_size_inches(14, 12)"
   ]
  },
  {
   "cell_type": "markdown",
   "id": "89ad3d1f",
   "metadata": {},
   "source": [
    "# Stationarity cheak"
   ]
  },
  {
   "cell_type": "code",
   "execution_count": null,
   "id": "e82d1050",
   "metadata": {},
   "outputs": [],
   "source": [
    "#Determine rolling statistics\n",
    "##rolling window\n"
   ]
  },
  {
   "cell_type": "code",
   "execution_count": null,
   "id": "5a8fb67e",
   "metadata": {},
   "outputs": [],
   "source": [
    "def rolling_stats(df): \n",
    "    rolmean = df.rolling(window=12).mean() #window size 12 denotes 12 months, giving rolling mean at yearly level\n",
    "    rolstd = df.rolling(window=12).std()\n",
    "    \n",
    "    plt.plot(df,color = \"black\", label = \"Origanal\")\n",
    "    plt.plot(rolmean,color = \"RED\", label = \"Mean\")\n",
    "    plt.plot(rolstd,color = \"Green\", label = 'Standered deviation')\n",
    "    plt.legend(loc='best')\n",
    "    plt.title(\"Rolling Statistics\")\n",
    "    plt.show(block=False)"
   ]
  },
  {
   "cell_type": "code",
   "execution_count": null,
   "id": "0b8f1522",
   "metadata": {},
   "outputs": [],
   "source": [
    "rolling_stats(df)"
   ]
  },
  {
   "cell_type": "code",
   "execution_count": null,
   "id": "de25f2c0",
   "metadata": {},
   "outputs": [],
   "source": [
    "#expanding window\n",
    "df.expanding(min_periods=12).mean().plot()"
   ]
  },
  {
   "cell_type": "code",
   "execution_count": null,
   "id": "dff683f5",
   "metadata": {},
   "outputs": [],
   "source": [
    "#exponantial moving avg\n",
    "df.ewm(span=60, min_periods=0, adjust = True).mean().plot()"
   ]
  },
  {
   "cell_type": "code",
   "execution_count": null,
   "id": "1a64962e",
   "metadata": {},
   "outputs": [],
   "source": [
    "#Performing Augmented Dickey–Fuller test:\n",
    "def ADFT(df):\n",
    "    print('Results of Dickey Fuller Test:')\n",
    "    dftest = adfuller(df, autolag='AIC')\n",
    "\n",
    "    useful_values =[v for v in dftest[:4]]\n",
    "    useful_values.extend([dftest[4][\"1%\"],dftest[4][\"5%\"],dftest[4][\"10%\"]])\n",
    "    res = pd.DataFrame({\"Lables\":[\"Test Stats\",\"P-Value\",\"#Lag Used\",\"Number of Observation Used\",\"Critical Value for 1%\",\"Critical Value for 5%\",\"Critical Value for 10%\" ],\"Value\":useful_values})\n",
    "\n",
    "    Pvalue = dftest[1]\n",
    "    cutoff = 0.1\n",
    "    if Pvalue < cutoff:    \n",
    "        print('P-value = %.4f. The series is likely stationary.' % Pvalue)\n",
    "    else:\n",
    "        print('P-value = %.4f. The series is likely non-stationary.' % Pvalue)\n",
    "    return res\n",
    " "
   ]
  },
  {
   "cell_type": "code",
   "execution_count": null,
   "id": "9ccc6866",
   "metadata": {},
   "outputs": [],
   "source": [
    "res = ADFT(df)\n",
    "res"
   ]
  },
  {
   "cell_type": "markdown",
   "id": "6c2d58a2",
   "metadata": {},
   "source": [
    "# Data Transformation to achieve Stationarity (Data Munging)"
   ]
  },
  {
   "cell_type": "markdown",
   "id": "3c5acf05",
   "metadata": {},
   "source": [
    "1. Differencing to create stationary data \n",
    "2. For removing trends\n"
   ]
  },
  {
   "cell_type": "markdown",
   "id": "39af02d7",
   "metadata": {},
   "source": [
    "# 1. Time shifting"
   ]
  },
  {
   "cell_type": "code",
   "execution_count": null,
   "id": "74028dda",
   "metadata": {},
   "outputs": [],
   "source": [
    "\n",
    "first_diff = df - df.shift(1)"
   ]
  },
  {
   "cell_type": "code",
   "execution_count": null,
   "id": "b2c607c1",
   "metadata": {},
   "outputs": [],
   "source": [
    "plt.plot(first_diff)"
   ]
  },
  {
   "cell_type": "code",
   "execution_count": null,
   "id": "90d814c6",
   "metadata": {},
   "outputs": [],
   "source": [
    "first_diff.dropna(inplace=True)"
   ]
  },
  {
   "cell_type": "code",
   "execution_count": null,
   "id": "95004634",
   "metadata": {},
   "outputs": [],
   "source": [
    "#rolling stats\n",
    "\n",
    "rolling_stats(first_diff)\n"
   ]
  },
  {
   "cell_type": "code",
   "execution_count": null,
   "id": "277ce1a0",
   "metadata": {},
   "outputs": [],
   "source": [
    "#Performing Augmented Dickey–Fuller test:\n",
    "res = ADFT(first_diff)\n",
    "res "
   ]
  },
  {
   "cell_type": "markdown",
   "id": "15772764",
   "metadata": {},
   "source": [
    "# 2. Log transformation"
   ]
  },
  {
   "cell_type": "code",
   "execution_count": null,
   "id": "aeb08d98",
   "metadata": {},
   "outputs": [],
   "source": [
    "\n",
    "log_df = np.log(df)"
   ]
  },
  {
   "cell_type": "code",
   "execution_count": null,
   "id": "e63f1bde",
   "metadata": {},
   "outputs": [],
   "source": [
    "plt.plot(log_df)"
   ]
  },
  {
   "cell_type": "code",
   "execution_count": null,
   "id": "501efc3d",
   "metadata": {},
   "outputs": [],
   "source": [
    "#rolling statistics \n",
    "rolling_stats(log_df)"
   ]
  },
  {
   "cell_type": "code",
   "execution_count": null,
   "id": "2fe46929",
   "metadata": {},
   "outputs": [],
   "source": [
    "res = ADFT(log_df)\n",
    "res "
   ]
  },
  {
   "cell_type": "markdown",
   "id": "2f7f8be4",
   "metadata": {},
   "source": [
    "# 3. Exponatial transformation"
   ]
  },
  {
   "cell_type": "code",
   "execution_count": null,
   "id": "140b06ce",
   "metadata": {},
   "outputs": [],
   "source": [
    "\n",
    "exponential_df = df.ewm(halflife=12, min_periods=0, adjust=True).mean()\n"
   ]
  },
  {
   "cell_type": "code",
   "execution_count": null,
   "id": "61ecc0fc",
   "metadata": {},
   "outputs": [],
   "source": [
    "plt.plot(exponential_df)"
   ]
  },
  {
   "cell_type": "code",
   "execution_count": null,
   "id": "e5ea9423",
   "metadata": {},
   "outputs": [],
   "source": [
    "#rolling statistics \n",
    "rolling_stats(exponential_df)\n"
   ]
  },
  {
   "cell_type": "code",
   "execution_count": null,
   "id": "33b50a01",
   "metadata": {},
   "outputs": [],
   "source": [
    "res = ADFT(exponential_df)\n",
    "res"
   ]
  },
  {
   "cell_type": "markdown",
   "id": "65db6b90",
   "metadata": {},
   "source": [
    "We have thus tried out 3 different transformation: time shift, log, & exp decay. \n",
    "The order of p-value are time_shift> log > exp_decay, hence the best transformation is exp decay.\n",
    "But for simplicity, we will use log transformation for futher analysis. The reason for doing this is that we can revert back to the original scale during forecasting. "
   ]
  },
  {
   "cell_type": "markdown",
   "id": "330515a3",
   "metadata": {},
   "source": [
    "# Data Splitting"
   ]
  },
  {
   "cell_type": "code",
   "execution_count": null,
   "id": "70cfd46c",
   "metadata": {},
   "outputs": [],
   "source": [
    "train_logdf = log_df[0:61]"
   ]
  },
  {
   "cell_type": "code",
   "execution_count": null,
   "id": "6632b0f6",
   "metadata": {},
   "outputs": [],
   "source": [
    "test_logdf = log_df[61:]"
   ]
  },
  {
   "cell_type": "code",
   "execution_count": null,
   "id": "4a97d9ea",
   "metadata": {},
   "outputs": [],
   "source": [
    "test_logdfS=log_df[61:]"
   ]
  },
  {
   "cell_type": "markdown",
   "id": "7c0cb0f9",
   "metadata": {},
   "source": [
    "# Plotting ACF & PACF"
   ]
  },
  {
   "cell_type": "code",
   "execution_count": null,
   "id": "e0f0805e",
   "metadata": {},
   "outputs": [],
   "source": [
    "lag_acf = acf(train_logdf,nlags=10)\n",
    "lag_pacf = pacf(train_logdf,nlags=10)\n",
    "\n",
    "#Plot ACF:\n",
    "plt.subplot(121)\n",
    "plt.plot(lag_acf)\n",
    "plt.axhline(y=0, linestyle='--', color='gray')\n",
    "plt.axhline(y=-1.96/np.sqrt(len(train_logdf)), linestyle='--', color='gray')\n",
    "plt.axhline(y=1.96/np.sqrt(len(train_logdf)), linestyle='--', color='gray')\n",
    "plt.title('Autocorrelation Function')            \n",
    "\n",
    "#Plot PACF\n",
    "plt.subplot(122)\n",
    "plt.plot(lag_pacf)\n",
    "plt.axhline(y=0, linestyle='--', color='gray')\n",
    "plt.axhline(y=-1.96/np.sqrt(len(train_logdf)), linestyle='--', color='gray')\n",
    "plt.axhline(y=1.96/np.sqrt(len(train_logdf)), linestyle='--', color='gray')\n",
    "plt.title('Partial Autocorrelation Function')\n",
    "            \n",
    "plt.tight_layout()            "
   ]
  },
  {
   "cell_type": "code",
   "execution_count": null,
   "id": "61b58491",
   "metadata": {},
   "outputs": [],
   "source": [
    "fig = plt.figure(figsize=(12,8))\n",
    "ax1 = fig.add_subplot(211)\n",
    "fig = sm.graphics.tsa.plot_acf(train_logdf, lags=12, ax=ax1) \n",
    "ax2 = fig.add_subplot(212)\n",
    "fig = sm.graphics.tsa.plot_pacf(train_logdf, lags=12, ax=ax2)"
   ]
  },
  {
   "cell_type": "markdown",
   "id": "24fb8879",
   "metadata": {},
   "source": [
    "# Auto Arima for Estimating Parameters "
   ]
  },
  {
   "cell_type": "code",
   "execution_count": null,
   "id": "532811b2",
   "metadata": {},
   "outputs": [],
   "source": [
    "from pmdarima import auto_arima"
   ]
  },
  {
   "cell_type": "code",
   "execution_count": null,
   "id": "075a5227",
   "metadata": {},
   "outputs": [],
   "source": [
    "fit = auto_arima(train_logdf,trace=True, surpress_warning = True)"
   ]
  },
  {
   "cell_type": "markdown",
   "id": "9c175423",
   "metadata": {},
   "source": [
    "# Arima Model"
   ]
  },
  {
   "cell_type": "code",
   "execution_count": null,
   "id": "4138a851",
   "metadata": {},
   "outputs": [],
   "source": [
    "arima_model = sm.tsa.ARIMA(train_logdf, (1,0,0))\n",
    "arima_model= arima_model.fit()\n",
    "arima_model.summary()"
   ]
  },
  {
   "cell_type": "markdown",
   "id": "aa6bf930",
   "metadata": {},
   "source": [
    "# Forecasting"
   ]
  },
  {
   "cell_type": "code",
   "execution_count": null,
   "id": "fb5763c7",
   "metadata": {},
   "outputs": [],
   "source": [
    "start_index = 61\n",
    "end_index = 72\n",
    "forcast = arima_model.predict(start = start_index, end= end_index, typ=\"levels\")  \n",
    "#train_logdf[start_index:end_index][[\"Accidental deaths in USA\", 'forecast']].plot(figsize=(12, 8))"
   ]
  },
  {
   "cell_type": "code",
   "execution_count": null,
   "id": "7086a1a5",
   "metadata": {},
   "outputs": [],
   "source": [
    "test_logdf[\"Forecast\"]= forcast"
   ]
  },
  {
   "cell_type": "code",
   "execution_count": null,
   "id": "86279a6a",
   "metadata": {},
   "outputs": [],
   "source": [
    "test_logdf"
   ]
  },
  {
   "cell_type": "code",
   "execution_count": null,
   "id": "5165bdf4",
   "metadata": {},
   "outputs": [],
   "source": [
    "def error(y_true, y_pred):\n",
    "    mape = np.mean(abs((y_true-y_pred)/y_true))*100\n",
    "    smape = np.mean((np.abs(y_pred - y_true) * 200/ (np.abs(y_pred) + np.abs(y_true))).fillna(0))\n",
    "    print('MAPE: %.2f %% \\nSMAPE: %.2f'% (mape,smape), \"%\")"
   ]
  },
  {
   "cell_type": "code",
   "execution_count": null,
   "id": "73ff78b1",
   "metadata": {},
   "outputs": [],
   "source": [
    "error(test_logdf[\"Accidental deaths in USA\"],test_logdf['Forecast'])"
   ]
  },
  {
   "cell_type": "code",
   "execution_count": null,
   "id": "517ed3c4",
   "metadata": {},
   "outputs": [],
   "source": [
    "test_logdf[[\"Accidental deaths in USA\", 'Forecast']].plot(figsize=(12, 8))"
   ]
  },
  {
   "cell_type": "markdown",
   "id": "607f429d",
   "metadata": {},
   "source": [
    "# Predicted Data"
   ]
  },
  {
   "cell_type": "code",
   "execution_count": null,
   "id": "06c5a82d",
   "metadata": {},
   "outputs": [],
   "source": [
    "data = np.exp(test_logdf)"
   ]
  },
  {
   "cell_type": "code",
   "execution_count": null,
   "id": "867d6093",
   "metadata": {},
   "outputs": [],
   "source": [
    "convert_dict = {\"Accidental deaths in USA\": int,\n",
    "                'Forecast': int }  \n",
    "  \n",
    "data = data.astype(convert_dict)  "
   ]
  },
  {
   "cell_type": "code",
   "execution_count": null,
   "id": "4f2d95b7",
   "metadata": {},
   "outputs": [],
   "source": [
    "data"
   ]
  },
  {
   "cell_type": "markdown",
   "id": "9aa7f9df",
   "metadata": {},
   "source": [
    "# Sarima Model"
   ]
  },
  {
   "cell_type": "code",
   "execution_count": null,
   "id": "25fa231c",
   "metadata": {},
   "outputs": [],
   "source": [
    "sarima_model = sm.tsa.statespace.SARIMAX(train_logdf, trend='n', order=(1,0,0)).fit()\n",
    "print(sarima_model.summary())"
   ]
  },
  {
   "cell_type": "code",
   "execution_count": null,
   "id": "ee618276",
   "metadata": {},
   "outputs": [],
   "source": [
    "start_index = 61\n",
    "end_index = 72\n",
    "test_logdfS['forecast'] = sarima_model.predict(start = start_index, end= end_index, typ=\"labels\")  "
   ]
  },
  {
   "cell_type": "code",
   "execution_count": null,
   "id": "6ea9737b",
   "metadata": {},
   "outputs": [],
   "source": [
    "test_logdfS"
   ]
  },
  {
   "cell_type": "code",
   "execution_count": null,
   "id": "87bc2240",
   "metadata": {},
   "outputs": [],
   "source": [
    "error(test_logdfS[\"Accidental deaths in USA\"],test_logdfS['forecast'])"
   ]
  },
  {
   "cell_type": "code",
   "execution_count": null,
   "id": "e1db26cc",
   "metadata": {},
   "outputs": [],
   "source": [
    "test_logdfS[[\"Accidental deaths in USA\", 'forecast']].plot(figsize=(12, 8))"
   ]
  },
  {
   "cell_type": "markdown",
   "id": "6647b0d8",
   "metadata": {},
   "source": [
    "# Predicted Data"
   ]
  },
  {
   "cell_type": "code",
   "execution_count": null,
   "id": "ecac8b36",
   "metadata": {},
   "outputs": [],
   "source": [
    "df = np.exp(test_logdfS)"
   ]
  },
  {
   "cell_type": "code",
   "execution_count": null,
   "id": "ed0e2e34",
   "metadata": {},
   "outputs": [],
   "source": [
    "df.head"
   ]
  },
  {
   "cell_type": "code",
   "execution_count": null,
   "id": "c60292a3",
   "metadata": {},
   "outputs": [],
   "source": [
    "convert_dict = {\"Accidental deaths in USA\": int,\n",
    "                'forecast': int }  \n",
    "  \n",
    "df = df.astype(convert_dict)  "
   ]
  },
  {
   "cell_type": "code",
   "execution_count": null,
   "id": "3e5eec05",
   "metadata": {},
   "outputs": [],
   "source": [
    "df"
   ]
  },
  {
   "cell_type": "code",
   "execution_count": null,
   "id": "5b82d148",
   "metadata": {},
   "outputs": [],
   "source": []
  }
 ],
 "metadata": {
  "kernelspec": {
   "display_name": "Python 3 (ipykernel)",
   "language": "python",
   "name": "python3"
  },
  "language_info": {
   "codemirror_mode": {
    "name": "ipython",
    "version": 3
   },
   "file_extension": ".py",
   "mimetype": "text/x-python",
   "name": "python",
   "nbconvert_exporter": "python",
   "pygments_lexer": "ipython3",
   "version": "3.9.7"
  }
 },
 "nbformat": 4,
 "nbformat_minor": 5
}
